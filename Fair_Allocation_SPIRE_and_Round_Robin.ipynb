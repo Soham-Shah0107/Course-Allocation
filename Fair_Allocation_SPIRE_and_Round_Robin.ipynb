{
  "nbformat": 4,
  "nbformat_minor": 0,
  "metadata": {
    "colab": {
      "provenance": [],
      "include_colab_link": true
    },
    "kernelspec": {
      "name": "python3",
      "display_name": "Python 3"
    },
    "language_info": {
      "name": "python"
    }
  },
  "cells": [
    {
      "cell_type": "markdown",
      "metadata": {
        "id": "view-in-github",
        "colab_type": "text"
      },
      "source": [
        "<a href=\"https://colab.research.google.com/github/Soham-Shah0107/Course-Allocation/blob/main/Fair_Allocation_SPIRE_and_Round_Robin.ipynb\" target=\"_parent\"><img src=\"https://colab.research.google.com/assets/colab-badge.svg\" alt=\"Open In Colab\"/></a>"
      ]
    },
    {
      "cell_type": "code",
      "source": [
        "from google.colab import drive\n",
        "drive.mount('/content/drive')"
      ],
      "metadata": {
        "id": "Gd23S_B2wsg9",
        "colab": {
          "base_uri": "https://localhost:8080/",
          "height": 324
        },
        "outputId": "77bba94b-b463-4e6e-9adc-bbbd01ebf2a0"
      },
      "execution_count": null,
      "outputs": [
        {
          "output_type": "error",
          "ename": "MessageError",
          "evalue": "ignored",
          "traceback": [
            "\u001b[0;31m---------------------------------------------------------------------------\u001b[0m",
            "\u001b[0;31mMessageError\u001b[0m                              Traceback (most recent call last)",
            "\u001b[0;32m<ipython-input-1-d5df0069828e>\u001b[0m in \u001b[0;36m<module>\u001b[0;34m\u001b[0m\n\u001b[1;32m      1\u001b[0m \u001b[0;32mfrom\u001b[0m \u001b[0mgoogle\u001b[0m\u001b[0;34m.\u001b[0m\u001b[0mcolab\u001b[0m \u001b[0;32mimport\u001b[0m \u001b[0mdrive\u001b[0m\u001b[0;34m\u001b[0m\u001b[0;34m\u001b[0m\u001b[0m\n\u001b[0;32m----> 2\u001b[0;31m \u001b[0mdrive\u001b[0m\u001b[0;34m.\u001b[0m\u001b[0mmount\u001b[0m\u001b[0;34m(\u001b[0m\u001b[0;34m'/content/drive'\u001b[0m\u001b[0;34m)\u001b[0m\u001b[0;34m\u001b[0m\u001b[0;34m\u001b[0m\u001b[0m\n\u001b[0m",
            "\u001b[0;32m/usr/local/lib/python3.9/dist-packages/google/colab/drive.py\u001b[0m in \u001b[0;36mmount\u001b[0;34m(mountpoint, force_remount, timeout_ms, readonly)\u001b[0m\n\u001b[1;32m    101\u001b[0m \u001b[0;32mdef\u001b[0m \u001b[0mmount\u001b[0m\u001b[0;34m(\u001b[0m\u001b[0mmountpoint\u001b[0m\u001b[0;34m,\u001b[0m \u001b[0mforce_remount\u001b[0m\u001b[0;34m=\u001b[0m\u001b[0;32mFalse\u001b[0m\u001b[0;34m,\u001b[0m \u001b[0mtimeout_ms\u001b[0m\u001b[0;34m=\u001b[0m\u001b[0;36m120000\u001b[0m\u001b[0;34m,\u001b[0m \u001b[0mreadonly\u001b[0m\u001b[0;34m=\u001b[0m\u001b[0;32mFalse\u001b[0m\u001b[0;34m)\u001b[0m\u001b[0;34m:\u001b[0m\u001b[0;34m\u001b[0m\u001b[0;34m\u001b[0m\u001b[0m\n\u001b[1;32m    102\u001b[0m   \u001b[0;34m\"\"\"Mount your Google Drive at the specified mountpoint path.\"\"\"\u001b[0m\u001b[0;34m\u001b[0m\u001b[0;34m\u001b[0m\u001b[0m\n\u001b[0;32m--> 103\u001b[0;31m   return _mount(\n\u001b[0m\u001b[1;32m    104\u001b[0m       \u001b[0mmountpoint\u001b[0m\u001b[0;34m,\u001b[0m\u001b[0;34m\u001b[0m\u001b[0;34m\u001b[0m\u001b[0m\n\u001b[1;32m    105\u001b[0m       \u001b[0mforce_remount\u001b[0m\u001b[0;34m=\u001b[0m\u001b[0mforce_remount\u001b[0m\u001b[0;34m,\u001b[0m\u001b[0;34m\u001b[0m\u001b[0;34m\u001b[0m\u001b[0m\n",
            "\u001b[0;32m/usr/local/lib/python3.9/dist-packages/google/colab/drive.py\u001b[0m in \u001b[0;36m_mount\u001b[0;34m(mountpoint, force_remount, timeout_ms, ephemeral, readonly)\u001b[0m\n\u001b[1;32m    130\u001b[0m   )\n\u001b[1;32m    131\u001b[0m   \u001b[0;32mif\u001b[0m \u001b[0mephemeral\u001b[0m\u001b[0;34m:\u001b[0m\u001b[0;34m\u001b[0m\u001b[0;34m\u001b[0m\u001b[0m\n\u001b[0;32m--> 132\u001b[0;31m     _message.blocking_request(\n\u001b[0m\u001b[1;32m    133\u001b[0m         \u001b[0;34m'request_auth'\u001b[0m\u001b[0;34m,\u001b[0m \u001b[0mrequest\u001b[0m\u001b[0;34m=\u001b[0m\u001b[0;34m{\u001b[0m\u001b[0;34m'authType'\u001b[0m\u001b[0;34m:\u001b[0m \u001b[0;34m'dfs_ephemeral'\u001b[0m\u001b[0;34m}\u001b[0m\u001b[0;34m,\u001b[0m \u001b[0mtimeout_sec\u001b[0m\u001b[0;34m=\u001b[0m\u001b[0;32mNone\u001b[0m\u001b[0;34m\u001b[0m\u001b[0;34m\u001b[0m\u001b[0m\n\u001b[1;32m    134\u001b[0m     )\n",
            "\u001b[0;32m/usr/local/lib/python3.9/dist-packages/google/colab/_message.py\u001b[0m in \u001b[0;36mblocking_request\u001b[0;34m(request_type, request, timeout_sec, parent)\u001b[0m\n\u001b[1;32m    175\u001b[0m       \u001b[0mrequest_type\u001b[0m\u001b[0;34m,\u001b[0m \u001b[0mrequest\u001b[0m\u001b[0;34m,\u001b[0m \u001b[0mparent\u001b[0m\u001b[0;34m=\u001b[0m\u001b[0mparent\u001b[0m\u001b[0;34m,\u001b[0m \u001b[0mexpect_reply\u001b[0m\u001b[0;34m=\u001b[0m\u001b[0;32mTrue\u001b[0m\u001b[0;34m\u001b[0m\u001b[0;34m\u001b[0m\u001b[0m\n\u001b[1;32m    176\u001b[0m   )\n\u001b[0;32m--> 177\u001b[0;31m   \u001b[0;32mreturn\u001b[0m \u001b[0mread_reply_from_input\u001b[0m\u001b[0;34m(\u001b[0m\u001b[0mrequest_id\u001b[0m\u001b[0;34m,\u001b[0m \u001b[0mtimeout_sec\u001b[0m\u001b[0;34m)\u001b[0m\u001b[0;34m\u001b[0m\u001b[0;34m\u001b[0m\u001b[0m\n\u001b[0m",
            "\u001b[0;32m/usr/local/lib/python3.9/dist-packages/google/colab/_message.py\u001b[0m in \u001b[0;36mread_reply_from_input\u001b[0;34m(message_id, timeout_sec)\u001b[0m\n\u001b[1;32m    102\u001b[0m     ):\n\u001b[1;32m    103\u001b[0m       \u001b[0;32mif\u001b[0m \u001b[0;34m'error'\u001b[0m \u001b[0;32min\u001b[0m \u001b[0mreply\u001b[0m\u001b[0;34m:\u001b[0m\u001b[0;34m\u001b[0m\u001b[0;34m\u001b[0m\u001b[0m\n\u001b[0;32m--> 104\u001b[0;31m         \u001b[0;32mraise\u001b[0m \u001b[0mMessageError\u001b[0m\u001b[0;34m(\u001b[0m\u001b[0mreply\u001b[0m\u001b[0;34m[\u001b[0m\u001b[0;34m'error'\u001b[0m\u001b[0;34m]\u001b[0m\u001b[0;34m)\u001b[0m\u001b[0;34m\u001b[0m\u001b[0;34m\u001b[0m\u001b[0m\n\u001b[0m\u001b[1;32m    105\u001b[0m       \u001b[0;32mreturn\u001b[0m \u001b[0mreply\u001b[0m\u001b[0;34m.\u001b[0m\u001b[0mget\u001b[0m\u001b[0;34m(\u001b[0m\u001b[0;34m'data'\u001b[0m\u001b[0;34m,\u001b[0m \u001b[0;32mNone\u001b[0m\u001b[0;34m)\u001b[0m\u001b[0;34m\u001b[0m\u001b[0;34m\u001b[0m\u001b[0m\n\u001b[1;32m    106\u001b[0m \u001b[0;34m\u001b[0m\u001b[0m\n",
            "\u001b[0;31mMessageError\u001b[0m: Error: credential propagation was unsuccessful"
          ]
        }
      ]
    },
    {
      "cell_type": "code",
      "execution_count": null,
      "metadata": {
        "id": "kblV0JP9zrk2"
      },
      "outputs": [],
      "source": [
        "import numpy as np"
      ]
    },
    {
      "cell_type": "markdown",
      "source": [
        "Reading Excel File into Pandas DataFrame\n",
        "Splitting Time Column into Start_Time and End_Time"
      ],
      "metadata": {
        "id": "9oAj4Lbemuov"
      }
    },
    {
      "cell_type": "code",
      "source": [
        "import pandas as pd\n",
        "df = pd.read_excel('/course_schedule.xlsx')\n",
        "dic = {}\n",
        "for row in df.iterrows():\n",
        "    if(isinstance(row[1][1],str)):\n",
        "        if(\"#\" not in row[1][1]):\n",
        "            classes = row[1][1]\n",
        "        else:\n",
        "            if classes in dic.keys():\n",
        "                dic[classes].append(row[1][1])\n",
        "            else:\n",
        "                dic[classes] = [row[1][1]]\n",
        "df[[\"Start_Time\",\"End_Time\"]] = df.TIME.str.split(\"-\",expand = True)\n",
        "print(df.head())"
      ],
      "metadata": {
        "id": "odv1hRN-mQrU"
      },
      "execution_count": null,
      "outputs": []
    },
    {
      "cell_type": "code",
      "source": [
        "import re\n",
        "df[\"DAYS\"] = (df[\"DAYS\"].str.split(r'(?=[A-Z])'))\n",
        "df[\"DAYS\"] = df[\"DAYS\"].apply(lambda x: x[1:] if isinstance(x, list) else x)\n"
      ],
      "metadata": {
        "id": "iXtQ8wCtniIj"
      },
      "execution_count": null,
      "outputs": []
    },
    {
      "cell_type": "code",
      "source": [
        "'''\n",
        "{\n",
        "  \"class1\":\"time\",\n",
        "  \"class2\":\"time\",\n",
        "  \"class3\":\"time2\"\n",
        "}\n",
        "'''\n",
        "schedule = {}\n",
        "for index,row in df.iterrows():\n",
        "    if(isinstance(row[1],str)):\n",
        "        if(\"#\" in row[1]):\n",
        "            if(isinstance(row[2],list)):\n",
        "                schedule[row[\"CLASS#\"]] = str(row[2]) +  str(row[3])\n",
        "print(schedule.values())"
      ],
      "metadata": {
        "id": "wspCSFYvpeZE"
      },
      "execution_count": null,
      "outputs": []
    },
    {
      "cell_type": "code",
      "source": [
        "#create a test schedule preference\n",
        "testPref = [0 for x in range(len(schedule))]\n",
        "testPref[0] = 1\n",
        "testPref[1] = 1\n"
      ],
      "metadata": {
        "id": "BsWXsB4_xrDi"
      },
      "execution_count": null,
      "outputs": []
    },
    {
      "cell_type": "code",
      "source": [
        "# Number of agents\n",
        "n = 3\n",
        "\n",
        "# Number of goods\n",
        "m = 6\n",
        "\n",
        "priority = [1,2,3] #priority order, lowest goes first\n",
        "\n",
        "weights = [1, 1, 1] #importance weighting\n",
        "cap = [2,2,2,2] # classes cap per student\n",
        "\n",
        "preferences = [\n",
        "    # You can modify the preferences of Anjali here\n",
        "    [1, 1, 1, 1, 0, 1],\n",
        "    # You can modify the preferences of Bob here\n",
        "    [1, 0, 1, 0, 1, 1],\n",
        "    # You can modify the preferences of Cai here\n",
        "    [1, 1, 0, 0, 1, 1],\n",
        "\n",
        "    #test pref\n",
        "    testPref\n",
        "]\n",
        "#slots = {0:0, 1:0, 2:1, 3:1, 4:2, 5:3} #time slot for courses\n",
        "slots = list(schedule.values()) #"
      ],
      "metadata": {
        "id": "O2sQKJIx3wgE"
      },
      "execution_count": null,
      "outputs": []
    },
    {
      "cell_type": "code",
      "source": [
        "def SpireAlloc(n, m, cap, preferences, priority):\n",
        "  X = [[0]*m for i in range(n)] # Initialize the allocation as a binary matrix (n x m)\n",
        "  playerInd = list(range(n)) # list of player indicies to iterate through\n",
        "  playerInd = [x for _, x in sorted(zip(priority, playerInd))] #reorder players by priority (lowest goes first)\n",
        "\n",
        "  availClasses = [1 for i in range(m)] #list of available classes \n",
        "\n",
        "  for i in playerInd:\n",
        "    #add each class in the preference if available\n",
        "    curClasses = 0\n",
        "    for j in range(len(preferences[i])):\n",
        "      if (availClasses[j] > 0 and preferences[i][j] == 1):\n",
        "        #print(j,preferences[i][j],availClasses[j])\n",
        "        availClasses[j] -= 1 #remove 1 class from avail\n",
        "        X[i][j] = 1\n",
        "        curClasses += 1\n",
        "      if curClasses >= cap[i]: #stop adding classes after cap\n",
        "        break\n",
        "    print(f\"Player {i} preferred:\", preferences[i])\n",
        "    print(f\"Player {i} classes  :\", X[i])\n",
        "    print(\"-----\")\n",
        "  return X"
      ],
      "metadata": {
        "id": "bGa-ZqXZz0ok"
      },
      "execution_count": null,
      "outputs": []
    },
    {
      "cell_type": "code",
      "source": [
        "SpireAlloc(n, m, cap, preferences, priority)"
      ],
      "metadata": {
        "id": "ub3p7e14NX3I"
      },
      "execution_count": null,
      "outputs": []
    },
    {
      "cell_type": "code",
      "source": [
        "# My understanding of Red Robin: Each student takes a turn getting 1 class, until every single student has reached their cap\n",
        "#WIP\n",
        "def RedRobin(cap, spots, preferences, priority): #cap: num[n], spots: num, preferences: num[n][m], priority: num[n]\n",
        "  n = len(preferences) #number of students\n",
        "  m = len(preferences[0]) #number of classes\n",
        "\n",
        "  X = [[0]*m for i in range(n)] # Initialize the allocation as a binary matrix (n x m)\n",
        "  playerInd = list(range(n)) # list of player indicies to iterate through\n",
        "  playerInd = [x for _, x in sorted(zip(priority, playerInd))] #reorder players by priority (lowest goes first)\n",
        "\n",
        "  availClasses = [spots for i in range(m)] #list of available classes \n",
        "\n",
        "  while availClasses.count(0) < len(availClasses): #loop as long as there are classes left\n",
        "    #go through a full cycle\n",
        "    for i in playerInd:\n",
        "      #add each class in the preference if available\n",
        "      curClasses = X[i].count(1) #count number of filled slots\n",
        "      if curClasses >= cap[i]: #stop adding classes after cap\n",
        "        continue\n",
        "      for j in range(len(preferences[i])):\n",
        "        if (X[i][j] != 1 and availClasses[j] > 0 and preferences[i][j] == 1): #must not already own class, class must be available, must be a preference\n",
        "          availClasses[j] -= 1 \n",
        "          X[i][j] = 1\n",
        "          break\n",
        "      \n",
        "  #print results\n",
        "  for i in playerInd:\n",
        "    print(f\"Player {i} preferred:\", preferences[i])\n",
        "    print(f\"Player {i} classes  :\", X[i])\n",
        "    print(\"-----\")\n",
        "  return X"
      ],
      "metadata": {
        "id": "nIzRTzgx1Cdt"
      },
      "execution_count": null,
      "outputs": []
    },
    {
      "cell_type": "code",
      "source": [
        "RedRobin(cap, preferences, priority)"
      ],
      "metadata": {
        "id": "5ogNgo8Z7XvB"
      },
      "execution_count": null,
      "outputs": []
    },
    {
      "cell_type": "markdown",
      "source": [],
      "metadata": {
        "id": "QuPSwYQNmudj"
      }
    },
    {
      "cell_type": "code",
      "source": [
        "#Testing for ROUND Robin \n",
        "prefs = [[1,0,0,1],\n",
        "     [1,1,0,0],\n",
        "     [0,1,1,0],\n",
        "     [1,0,1,1]]\n",
        "cap = 2\n",
        "RedRobin([cap,cap,cap,cap],2,prefs, [1,2,3,4]) #doesn't work if there are leftover spots!!!!! FIX THIS TODO"
      ],
      "metadata": {
        "id": "oQWJQ6EnqBYh",
        "colab": {
          "base_uri": "https://localhost:8080/"
        },
        "outputId": "a71dd35f-6419-4f7b-b29b-8b3404604112"
      },
      "execution_count": null,
      "outputs": [
        {
          "output_type": "stream",
          "name": "stdout",
          "text": [
            "Player 0 preferred: [1, 0, 0, 1]\n",
            "Player 0 classes  : [1, 0, 0, 1]\n",
            "-----\n",
            "Player 1 preferred: [1, 1, 0, 0]\n",
            "Player 1 classes  : [1, 1, 0, 0]\n",
            "-----\n",
            "Player 2 preferred: [0, 1, 1, 0]\n",
            "Player 2 classes  : [0, 1, 1, 0]\n",
            "-----\n",
            "Player 3 preferred: [1, 0, 1, 1]\n",
            "Player 3 classes  : [0, 0, 1, 1]\n",
            "-----\n"
          ]
        },
        {
          "output_type": "execute_result",
          "data": {
            "text/plain": [
              "[[1, 0, 0, 1], [1, 1, 0, 0], [0, 1, 1, 0], [0, 0, 1, 1]]"
            ]
          },
          "metadata": {},
          "execution_count": 8
        }
      ]
    },
    {
      "cell_type": "code",
      "source": [
        "from IPython.core.display import Math\n",
        "''' Max Matching Algorithm \n",
        "Grabs preferences for agent i from \"preferences\" var\n",
        "Grabs time slot conflict from \"slots\" var\n",
        "S is in the same format as preferences[i]\n",
        "'''\n",
        "def maxMatch(i, S): #agent i, given classes S\n",
        "  B = [0 for n in range(len(S))] #Best class selection\n",
        "  for c in range(len(S)):\n",
        "    valid = True\n",
        "    \n",
        "    if not (S[c] == 1 and preferences[i][c] == 1): #skip if S is not assigned or is not a preference\n",
        "      valid = False\n",
        "    for j in range(len(B)):\n",
        "      if B[j] == 1 and slots[j] == slots[c]: #skip if time slot matches a previously existing time slot\n",
        "        valid = False\n",
        "    \n",
        "    if valid:\n",
        "      B[c] = 1 #add the class\n",
        "  return min(B.count(1), cap[i]) #return number of classes in B, but capped\n",
        "\n",
        "maxMatch(3, testPref)"
      ],
      "metadata": {
        "id": "HpYFFyIN56mP"
      },
      "execution_count": null,
      "outputs": []
    },
    {
      "cell_type": "code",
      "source": [
        "import random\n",
        "#generate students (class preferences) based on related topics and professor\n",
        "'''\n",
        "Given:\n",
        "a list of classes a professor teaches \n",
        "a list of classes for each topic\n",
        "\n",
        "'''\n",
        "#Say classes are as follows: Algorithms by Alice, AI by Alice, Data Structures by David, ML by Mark, \n",
        "topics = {\"basics\":[0,2], \"ML\":[1,3]}\n",
        "professors = {\"Alice\":[0,1],\"David\":[2],\"Mark\":[3]}\n",
        "\n",
        "def genStudent(m, cap, tops, profs): #m: num, cap: num, tops: str[], profs: str[]\n",
        "  S = [0 for n in range(m)] #class selection\n",
        "  L = [] #list of possible wanted classes\n",
        "\n",
        "  #add all classes from a preferred topic or professor\n",
        "  for i in tops:\n",
        "    for j in topics[i]:\n",
        "      L.append(j)\n",
        "  for i in profs:\n",
        "    for j in professors[i]:\n",
        "      L.append(j)\n",
        "  #note - if there is a overlap between a pref. professor/topic, double count the class (higher weight for random selection)\n",
        "  #TODO: deduplicate results\n",
        "  \n",
        "  #random selection\n",
        "  print(\"--\")\n",
        "  print(L)\n",
        "  random.shuffle(L)\n",
        "  for i in range(min(cap,len(L))): \n",
        "    S[L[i]] = 1 #pick random classes from list of classes until cap is reached\n",
        "  return S\n",
        "\n",
        "#some tests\n",
        "print(genStudent(4,2,[],[\"Alice\"]))\n",
        "print(genStudent(4,2,[],[\"Alice\",\"David\"]))\n",
        "print(genStudent(4,2,[\"basics\"],[]))\n",
        "print(genStudent(4,2,[\"basics\"],[\"Alice\"]))\n",
        "print(genStudent(4,2,[\"ML\"],[\"Alice\",\"David\"]))"
      ],
      "metadata": {
        "colab": {
          "base_uri": "https://localhost:8080/"
        },
        "id": "mbo7uAryp_vM",
        "outputId": "c726a2e3-8e5e-4ad3-e2b4-5baab261e265"
      },
      "execution_count": null,
      "outputs": [
        {
          "output_type": "stream",
          "name": "stdout",
          "text": [
            "--\n",
            "[0, 1]\n",
            "[1, 1, 0, 0]\n",
            "--\n",
            "[0, 1, 2]\n",
            "[1, 1, 0, 0]\n",
            "--\n",
            "[0, 2]\n",
            "[1, 0, 1, 0]\n",
            "--\n",
            "[0, 2, 0, 1]\n",
            "[1, 1, 0, 0]\n",
            "--\n",
            "[1, 3, 0, 1, 2]\n",
            "[0, 1, 1, 0]\n"
          ]
        }
      ]
    },
    {
      "cell_type": "code",
      "source": [],
      "metadata": {
        "colab": {
          "base_uri": "https://localhost:8080/",
          "height": 183
        },
        "id": "LYeuJAy1DXcI",
        "outputId": "471c367b-7371-4596-ae6a-19873d7c1164"
      },
      "execution_count": null,
      "outputs": [
        {
          "output_type": "error",
          "ename": "IndexError",
          "evalue": "ignored",
          "traceback": [
            "\u001b[0;31m---------------------------------------------------------------------------\u001b[0m",
            "\u001b[0;31mIndexError\u001b[0m                                Traceback (most recent call last)",
            "\u001b[0;32m<ipython-input-14-dbd18c15f3b0>\u001b[0m in \u001b[0;36m<module>\u001b[0;34m\u001b[0m\n\u001b[1;32m      1\u001b[0m \u001b[0mlis\u001b[0m \u001b[0;34m=\u001b[0m \u001b[0;34m[\u001b[0m\u001b[0;36m0\u001b[0m\u001b[0;34m,\u001b[0m\u001b[0;36m1\u001b[0m\u001b[0;34m,\u001b[0m\u001b[0;36m2\u001b[0m\u001b[0;34m]\u001b[0m\u001b[0;34m\u001b[0m\u001b[0;34m\u001b[0m\u001b[0m\n\u001b[0;32m----> 2\u001b[0;31m \u001b[0mprint\u001b[0m\u001b[0;34m(\u001b[0m\u001b[0mlis\u001b[0m\u001b[0;34m[\u001b[0m\u001b[0;36m3\u001b[0m\u001b[0;34m]\u001b[0m\u001b[0;34m)\u001b[0m\u001b[0;34m\u001b[0m\u001b[0;34m\u001b[0m\u001b[0m\n\u001b[0m",
            "\u001b[0;31mIndexError\u001b[0m: list index out of range"
          ]
        }
      ]
    }
  ]
}